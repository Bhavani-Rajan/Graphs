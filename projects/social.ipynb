{
 "cells": [
  {
   "cell_type": "code",
   "execution_count": null,
   "metadata": {},
   "outputs": [],
   "source": [
    "Given two words (begin_word and end_word), and a dictionary's word list, return the shortest transformation sequence from begin_word to end_word, such that:\n",
    "Only one letter can be changed at a time.\n",
    "Each transformed word must exist in the word list. Note that begin_word is not a transformed word.\n",
    "Note:\n",
    "Return None if there is no such transformation sequence.\n",
    "All words contain only lowercase alphabetic characters.\n",
    "You may assume no duplicates in the word list.\n",
    "You may assume begin_word and end_word are non-empty and are not the same.\n",
    "9:02\n",
    "Sample:\n",
    "begin_word = \"hit\"\n",
    "end_word = \"cog\"\n",
    "return: ['hit', 'hot', 'cot', 'cog']\n",
    "begin_word = \"sail\"\n",
    "end_word = \"boat\"\n",
    "['sail', 'bail', 'boil', 'boll', 'bolt', 'boat']\n",
    "beginWord = \"hungry\"\n",
    "endWord = \"happy\"\n",
    "None\n",
    "\n"
   ]
  },
  {
   "cell_type": "code",
   "execution_count": null,
   "metadata": {},
   "outputs": [],
   "source": [
    "sail\n",
    "bail\n",
    "boil\n",
    "boll\n",
    "bolt\n",
    "boat"
   ]
  }
 ],
 "metadata": {
  "kernelspec": {
   "display_name": "Python 3",
   "language": "python",
   "name": "python3"
  },
  "language_info": {
   "codemirror_mode": {
    "name": "ipython",
    "version": 3
   },
   "file_extension": ".py",
   "mimetype": "text/x-python",
   "name": "python",
   "nbconvert_exporter": "python",
   "pygments_lexer": "ipython3",
   "version": "3.7.4"
  }
 },
 "nbformat": 4,
 "nbformat_minor": 4
}
